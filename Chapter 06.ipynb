{
 "cells": [
  {
   "cell_type": "markdown",
   "id": "8784022f-c858-45d5-b9ba-2fe72ea4780b",
   "metadata": {
    "ExecuteTime": {
     "end_time": "2023-09-10T17:52:21.436908474Z",
     "start_time": "2023-09-10T17:52:21.435262367Z"
    }
   },
   "source": [
    "# ***CHAPTER 2***"
   ]
  },
  {
   "cell_type": "code",
   "execution_count": 1,
   "id": "4f860222-caed-4ca2-84c3-3d09368fdd19",
   "metadata": {
    "ExecuteTime": {
     "end_time": "2023-09-13T04:49:55.083263748Z",
     "start_time": "2023-09-13T04:49:55.070529914Z"
    }
   },
   "outputs": [
    {
     "name": "stdout",
     "output_type": "stream",
     "text": [
      "Before largest_so_far = -1\n",
      "After largest_so_far = 86\n"
     ]
    }
   ],
   "source": [
    "largest_so_far = -1\n",
    "print(f\"Before {largest_so_far = }\")\n",
    "for the_num in [2, 6, 78, 65, 86, 9, 1]:\n",
    "    if the_num > largest_so_far:\n",
    "        largest_so_far = the_num\n",
    "print(f\"After {largest_so_far = }\")"
   ]
  },
  {
   "cell_type": "code",
   "execution_count": 3,
   "id": "ac5deff3-08f9-4aad-85b8-50d97bb77601",
   "metadata": {},
   "outputs": [
    {
     "name": "stdout",
     "output_type": "stream",
     "text": [
      "Smaller\n",
      "Finis\n"
     ]
    }
   ],
   "source": [
    "x = 5\n",
    "if x < 10:\n",
    "    print('Smaller')\n",
    "if x > 20:\n",
    "    print('Bigger')\n",
    "print('Finis')\n"
   ]
  },
  {
   "cell_type": "code",
   "execution_count": null,
   "id": "dc883567-aec5-490f-98d6-30f302270127",
   "metadata": {},
   "outputs": [],
   "source": []
  }
 ],
 "metadata": {
  "kernelspec": {
   "display_name": "Python 3 (ipykernel)",
   "language": "python",
   "name": "python3"
  },
  "language_info": {
   "codemirror_mode": {
    "name": "ipython",
    "version": 3
   },
   "file_extension": ".py",
   "mimetype": "text/x-python",
   "name": "python",
   "nbconvert_exporter": "python",
   "pygments_lexer": "ipython3",
   "version": "3.11.5"
  }
 },
 "nbformat": 4,
 "nbformat_minor": 5
}
